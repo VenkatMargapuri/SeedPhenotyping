{
  "nbformat": 4,
  "nbformat_minor": 0,
  "metadata": {
    "colab": {
      "name": "YOLO-Tiny2-TfLite.ipynb",
      "provenance": [],
      "authorship_tag": "ABX9TyOCV3TwVB6iX/7NLys8twoa",
      "include_colab_link": true
    },
    "kernelspec": {
      "name": "python3",
      "display_name": "Python 3"
    }
  },
  "cells": [
    {
      "cell_type": "markdown",
      "metadata": {
        "id": "view-in-github",
        "colab_type": "text"
      },
      "source": [
        "<a href=\"https://colab.research.google.com/github/VenkatMargapuri/SeedPhenotyping/blob/main/YOLO_Tiny2_TfLite.ipynb\" target=\"_parent\"><img src=\"https://colab.research.google.com/assets/colab-badge.svg\" alt=\"Open In Colab\"/></a>"
      ]
    },
    {
      "cell_type": "code",
      "metadata": {
        "colab": {
          "base_uri": "https://localhost:8080/"
        },
        "id": "l4ZWJm8SV_fI",
        "outputId": "d2083adf-1902-4577-9fd4-4faae973b2a6"
      },
      "source": [
        "!git clone https://github.com/thtrieu/darkflow.git"
      ],
      "execution_count": 1,
      "outputs": [
        {
          "output_type": "stream",
          "text": [
            "Cloning into 'darkflow'...\n",
            "remote: Enumerating objects: 2713, done.\u001b[K\n",
            "remote: Total 2713 (delta 0), reused 0 (delta 0), pack-reused 2713\u001b[K\n",
            "Receiving objects: 100% (2713/2713), 32.98 MiB | 42.00 MiB/s, done.\n",
            "Resolving deltas: 100% (1762/1762), done.\n"
          ],
          "name": "stdout"
        }
      ]
    },
    {
      "cell_type": "code",
      "metadata": {
        "colab": {
          "base_uri": "https://localhost:8080/"
        },
        "id": "uZoBZoV-WKr5",
        "outputId": "dcc8e2fe-3d99-47c0-95c5-a5c601d57a83"
      },
      "source": [
        "%cd darkflow\n",
        "!pip install .\n"
      ],
      "execution_count": 2,
      "outputs": [
        {
          "output_type": "stream",
          "text": [
            "/content/darkflow\n",
            "Processing /content/darkflow\n",
            "Building wheels for collected packages: darkflow\n",
            "  Building wheel for darkflow (setup.py) ... \u001b[?25l\u001b[?25hdone\n",
            "  Created wheel for darkflow: filename=darkflow-1.0.0-cp36-cp36m-linux_x86_64.whl size=816418 sha256=728775521aaeaa53da187c1720055ff0db31a08944ae5b86da42e4740a4a4455\n",
            "  Stored in directory: /tmp/pip-ephem-wheel-cache-08zzvaxm/wheels/2f/3a/c5/e84e79d73d5a73aa1b5129a66a40947d9d77a32ebed501e431\n",
            "Successfully built darkflow\n",
            "Installing collected packages: darkflow\n",
            "Successfully installed darkflow-1.0.0\n"
          ],
          "name": "stdout"
        }
      ]
    },
    {
      "cell_type": "code",
      "metadata": {
        "colab": {
          "base_uri": "https://localhost:8080/"
        },
        "id": "YBIZvxCAWWKA",
        "outputId": "0b9aed13-e073-49a0-b816-6fbb2d39507c"
      },
      "source": [
        "#!pip uninstall tensorflow\n",
        "\n",
        "!pip install tensorflow==1.13.2\n",
        "\n",
        "!flow --model /content/darkflow/cfg/yolov2-tiny.cfg --load /content/darkflow/yolov2-tiny.weights --savepb\n"
      ],
      "execution_count": 7,
      "outputs": [
        {
          "output_type": "stream",
          "text": [
            "Requirement already satisfied: tensorflow==1.13.2 in /usr/local/lib/python3.6/dist-packages (1.13.2)\n",
            "Requirement already satisfied: grpcio>=1.8.6 in /usr/local/lib/python3.6/dist-packages (from tensorflow==1.13.2) (1.33.2)\n",
            "Requirement already satisfied: gast>=0.2.0 in /usr/local/lib/python3.6/dist-packages (from tensorflow==1.13.2) (0.3.3)\n",
            "Requirement already satisfied: absl-py>=0.1.6 in /usr/local/lib/python3.6/dist-packages (from tensorflow==1.13.2) (0.10.0)\n",
            "Requirement already satisfied: six>=1.10.0 in /usr/local/lib/python3.6/dist-packages (from tensorflow==1.13.2) (1.15.0)\n",
            "Requirement already satisfied: termcolor>=1.1.0 in /usr/local/lib/python3.6/dist-packages (from tensorflow==1.13.2) (1.1.0)\n",
            "Requirement already satisfied: tensorboard<1.14.0,>=1.13.0 in /usr/local/lib/python3.6/dist-packages (from tensorflow==1.13.2) (1.13.1)\n",
            "Requirement already satisfied: keras-applications>=1.0.6 in /usr/local/lib/python3.6/dist-packages (from tensorflow==1.13.2) (1.0.8)\n",
            "Requirement already satisfied: keras-preprocessing>=1.0.5 in /usr/local/lib/python3.6/dist-packages (from tensorflow==1.13.2) (1.1.2)\n",
            "Requirement already satisfied: wheel>=0.26 in /usr/local/lib/python3.6/dist-packages (from tensorflow==1.13.2) (0.35.1)\n",
            "Requirement already satisfied: numpy<2.0,>=1.16.0 in /usr/local/lib/python3.6/dist-packages (from tensorflow==1.13.2) (1.18.5)\n",
            "Requirement already satisfied: tensorflow-estimator<1.14.0rc0,>=1.13.0 in /usr/local/lib/python3.6/dist-packages (from tensorflow==1.13.2) (1.13.0)\n",
            "Requirement already satisfied: protobuf>=3.6.1 in /usr/local/lib/python3.6/dist-packages (from tensorflow==1.13.2) (3.12.4)\n",
            "Requirement already satisfied: astor>=0.6.0 in /usr/local/lib/python3.6/dist-packages (from tensorflow==1.13.2) (0.8.1)\n",
            "Requirement already satisfied: markdown>=2.6.8 in /usr/local/lib/python3.6/dist-packages (from tensorboard<1.14.0,>=1.13.0->tensorflow==1.13.2) (3.3.3)\n",
            "Requirement already satisfied: werkzeug>=0.11.15 in /usr/local/lib/python3.6/dist-packages (from tensorboard<1.14.0,>=1.13.0->tensorflow==1.13.2) (1.0.1)\n",
            "Requirement already satisfied: h5py in /usr/local/lib/python3.6/dist-packages (from keras-applications>=1.0.6->tensorflow==1.13.2) (2.10.0)\n",
            "Requirement already satisfied: mock>=2.0.0 in /usr/local/lib/python3.6/dist-packages (from tensorflow-estimator<1.14.0rc0,>=1.13.0->tensorflow==1.13.2) (4.0.2)\n",
            "Requirement already satisfied: setuptools in /usr/local/lib/python3.6/dist-packages (from protobuf>=3.6.1->tensorflow==1.13.2) (50.3.2)\n",
            "Requirement already satisfied: importlib-metadata; python_version < \"3.8\" in /usr/local/lib/python3.6/dist-packages (from markdown>=2.6.8->tensorboard<1.14.0,>=1.13.0->tensorflow==1.13.2) (2.0.0)\n",
            "Requirement already satisfied: zipp>=0.5 in /usr/local/lib/python3.6/dist-packages (from importlib-metadata; python_version < \"3.8\"->markdown>=2.6.8->tensorboard<1.14.0,>=1.13.0->tensorflow==1.13.2) (3.4.0)\n",
            "/usr/local/lib/python3.6/dist-packages/tensorflow/python/framework/dtypes.py:526: FutureWarning: Passing (type, 1) or '1type' as a synonym of type is deprecated; in a future version of numpy, it will be understood as (type, (1,)) / '(1,)type'.\n",
            "  _np_qint8 = np.dtype([(\"qint8\", np.int8, 1)])\n",
            "/usr/local/lib/python3.6/dist-packages/tensorflow/python/framework/dtypes.py:527: FutureWarning: Passing (type, 1) or '1type' as a synonym of type is deprecated; in a future version of numpy, it will be understood as (type, (1,)) / '(1,)type'.\n",
            "  _np_quint8 = np.dtype([(\"quint8\", np.uint8, 1)])\n",
            "/usr/local/lib/python3.6/dist-packages/tensorflow/python/framework/dtypes.py:528: FutureWarning: Passing (type, 1) or '1type' as a synonym of type is deprecated; in a future version of numpy, it will be understood as (type, (1,)) / '(1,)type'.\n",
            "  _np_qint16 = np.dtype([(\"qint16\", np.int16, 1)])\n",
            "/usr/local/lib/python3.6/dist-packages/tensorflow/python/framework/dtypes.py:529: FutureWarning: Passing (type, 1) or '1type' as a synonym of type is deprecated; in a future version of numpy, it will be understood as (type, (1,)) / '(1,)type'.\n",
            "  _np_quint16 = np.dtype([(\"quint16\", np.uint16, 1)])\n",
            "/usr/local/lib/python3.6/dist-packages/tensorflow/python/framework/dtypes.py:530: FutureWarning: Passing (type, 1) or '1type' as a synonym of type is deprecated; in a future version of numpy, it will be understood as (type, (1,)) / '(1,)type'.\n",
            "  _np_qint32 = np.dtype([(\"qint32\", np.int32, 1)])\n",
            "/usr/local/lib/python3.6/dist-packages/tensorflow/python/framework/dtypes.py:535: FutureWarning: Passing (type, 1) or '1type' as a synonym of type is deprecated; in a future version of numpy, it will be understood as (type, (1,)) / '(1,)type'.\n",
            "  np_resource = np.dtype([(\"resource\", np.ubyte, 1)])\n",
            "\n",
            "Parsing ./cfg/yolov2-tiny.cfg\n",
            "Parsing /content/darkflow/cfg/yolov2-tiny.cfg\n",
            "Loading /content/darkflow/yolov2-tiny.weights ...\n",
            "Traceback (most recent call last):\n",
            "  File \"/usr/local/bin/flow\", line 6, in <module>\n",
            "    cliHandler(sys.argv)\n",
            "  File \"/usr/local/lib/python3.6/dist-packages/darkflow/cli.py\", line 26, in cliHandler\n",
            "    tfnet = TFNet(FLAGS)\n",
            "  File \"/usr/local/lib/python3.6/dist-packages/darkflow/net/build.py\", line 58, in __init__\n",
            "    darknet = Darknet(FLAGS)\n",
            "  File \"/usr/local/lib/python3.6/dist-packages/darkflow/dark/darknet.py\", line 27, in __init__\n",
            "    self.load_weights()\n",
            "  File \"/usr/local/lib/python3.6/dist-packages/darkflow/dark/darknet.py\", line 82, in load_weights\n",
            "    wgts_loader = loader.create_loader(*args)\n",
            "  File \"/usr/local/lib/python3.6/dist-packages/darkflow/utils/loader.py\", line 105, in create_loader\n",
            "    return load_type(path, cfg)\n",
            "  File \"/usr/local/lib/python3.6/dist-packages/darkflow/utils/loader.py\", line 19, in __init__\n",
            "    self.load(*args)\n",
            "  File \"/usr/local/lib/python3.6/dist-packages/darkflow/utils/loader.py\", line 77, in load\n",
            "    walker.offset, walker.size)\n",
            "AssertionError: expect 44138056 bytes, found 44948600\n"
          ],
          "name": "stdout"
        }
      ]
    },
    {
      "cell_type": "code",
      "metadata": {
        "colab": {
          "base_uri": "https://localhost:8080/"
        },
        "id": "vraRvjEsZeYj",
        "outputId": "c7d5e76f-6eda-4de9-c907-f0c9e44f9312"
      },
      "source": [
        "%cd /content\n",
        "!git clone https://github.com/tensorflow/tensorflow"
      ],
      "execution_count": 4,
      "outputs": [
        {
          "output_type": "stream",
          "text": [
            "/content\n",
            "Cloning into 'tensorflow'...\n",
            "remote: Enumerating objects: 1049939, done.\u001b[K\n",
            "remote: Total 1049939 (delta 0), reused 0 (delta 0), pack-reused 1049939\u001b[K\n",
            "Receiving objects: 100% (1049939/1049939), 622.84 MiB | 23.50 MiB/s, done.\n",
            "Resolving deltas: 100% (857132/857132), done.\n",
            "Checking out files: 100% (23914/23914), done.\n"
          ],
          "name": "stdout"
        }
      ]
    },
    {
      "cell_type": "code",
      "metadata": {
        "id": "F_N7iyPaaJyt"
      },
      "source": [
        "import tensorflow as tf\n",
        "\n",
        "# Convert the model.\n",
        "converter = tf.compat.v1.lite.TFLiteConverter.from_frozen_graph(\n",
        "    graph_def_file='/content/darkflow/built_graph/yolov2-tiny.pb',\n",
        "    input_arrays=['input'],\n",
        "    input_shapes={'input' : [1, 416, 416,3]},\n",
        "    output_arrays=['output'],\n",
        ")\n",
        "converter.quantized_input_stats = {'input' : (0., 1.)}  # mean, std_dev (input range is [-1, 1])\n",
        "#converter.inference_type = tf.uint8 # this is the recommended type.\n",
        "#converter.inference_input_type=tf.uint8 # optional\n",
        "# converter.inference_output_type=tf.uint8 # optional\n",
        "tflite_model = converter.convert()\n",
        "\n",
        "# Save the model.\n",
        "with open('YOLOWheat.tflite', 'wb') as f:\n",
        "  f.write(tflite_model)"
      ],
      "execution_count": null,
      "outputs": []
    }
  ]
}