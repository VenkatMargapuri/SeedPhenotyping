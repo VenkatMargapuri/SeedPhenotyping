{
  "nbformat": 4,
  "nbformat_minor": 0,
  "metadata": {
    "colab": {
      "name": "MaskRCNN-Implementation.ipynb",
      "provenance": [],
      "collapsed_sections": [],
      "toc_visible": true,
      "machine_shape": "hm",
      "include_colab_link": true
    },
    "kernelspec": {
      "name": "python3",
      "display_name": "Python 3"
    },
    "accelerator": "GPU"
  },
  "cells": [
    {
      "cell_type": "markdown",
      "metadata": {
        "id": "view-in-github",
        "colab_type": "text"
      },
      "source": [
        "<a href=\"https://colab.research.google.com/github/VenkatMargapuri/SeedPhenotyping/blob/main/MaskRCNN_Implementation.ipynb\" target=\"_parent\"><img src=\"https://colab.research.google.com/assets/colab-badge.svg\" alt=\"Open In Colab\"/></a>"
      ]
    },
    {
      "cell_type": "markdown",
      "metadata": {
        "id": "nGiIgx6PQR_i"
      },
      "source": [
        "#Mask R-CNN instance segmentation with custom dataset in Google Colab\n",
        "Jupyter notebook providing steps to train a **Matterport Mask R-CNN** model with custom dataset.\n",
        "\n",
        "It runs in [Google Colab](https://colab.research.google.com/) using [Matterport framework](https://github.com/matterport/Mask_RCNN) with TensorFlow backend.\n",
        "\n",
        "**Requirements are only dataset images and annotations file.**\n",
        "\n",
        "**Colab Runtime type: Python3, GPU enabled.**"
      ]
    },
    {
      "cell_type": "markdown",
      "metadata": {
        "id": "umEL6-vlmXmj"
      },
      "source": [
        "#Making Dataset\n",
        "I generated dataset annotations with [VGG Image Annotator](http://www.robots.ox.ac.uk/~vgg/software/via/).\n",
        "\n",
        "Notebook train a model for one class object detection. It is possible to slightly modify notebook to train model for multiple classes.\n",
        "\n",
        "Before running notebook, we need to create dataset:\n",
        "\n",
        "\n",
        "1.   Collect various pictures of objects to detect\n",
        "3.   Create annotation files in VGG\n",
        "4.   Create image.zip file having structure defined below\n",
        "5.   Upload the zip file in your Google Drive\n",
        "\n",
        "Zip file structure:\n",
        "```\n",
        "images.zip\n",
        "|- \"train\" directory\n",
        "  |- jpg image files of training data\n",
        "  |- \"via_region_data.json\" annotations file of training data\n",
        "|- \"val\" directory\n",
        "  |- jpg image files of validation data\n",
        "  |- \"via_region_data.json\" annotations file of validation data\n",
        "```\n",
        "Check my image.zip file as dataset example."
      ]
    },
    {
      "cell_type": "markdown",
      "metadata": {
        "id": "ywU9FM5qn6Wx"
      },
      "source": [
        "#Install required packages"
      ]
    },
    {
      "cell_type": "code",
      "metadata": {
        "id": "39Wtm53bG7xW",
        "colab": {
          "base_uri": "https://localhost:8080/"
        },
        "outputId": "6a14610e-14c8-4c36-906d-1e5cd7ab682d"
      },
      "source": [
        "# Clone matterport's git repo\n",
        "%cd\n",
        "!git clone --quiet https://github.com/matterport/Mask_RCNN.git"
      ],
      "execution_count": null,
      "outputs": [
        {
          "output_type": "stream",
          "text": [
            "/root\n",
            "^C\n"
          ],
          "name": "stdout"
        }
      ]
    },
    {
      "cell_type": "code",
      "metadata": {
        "id": "Ib68giR5JVZw"
      },
      "source": [
        "#Mount google drive for the trained model to be loaded\n",
        "from google.colab import drive\n",
        "drive.mount('/content/drive', force_remount=True)"
      ],
      "execution_count": null,
      "outputs": []
    },
    {
      "cell_type": "code",
      "metadata": {
        "id": "r4qzJib-6EiT"
      },
      "source": [
        "# Unzip the zipped folder containing seeds\n",
        "!unzip '/content/drive/My Drive/dataset/val.zip' -d '/content/drive/My Drive/dataset/RoughRiceSeeds1000'"
      ],
      "execution_count": null,
      "outputs": []
    },
    {
      "cell_type": "code",
      "metadata": {
        "id": "GZY2h5buS9xb"
      },
      "source": [
        "# Install the requirements for Mask R-CNN\n",
        "%cd /content/drive/My Drive/Mask_RCNN-Trained\n",
        "!pip install -q PyDrive\n",
        "!pip install -r requirements.txt\n",
        "!python setup.py install"
      ],
      "execution_count": null,
      "outputs": []
    },
    {
      "cell_type": "markdown",
      "metadata": {
        "id": "6zZg68_koGU7"
      },
      "source": [
        "#Download and extract dataset\n",
        "Update fileId variable with Google Drive id of your image.zip dataset\n"
      ]
    },
    {
      "cell_type": "markdown",
      "metadata": {
        "id": "4Hjjc40apLpd"
      },
      "source": [
        "#Edit settings file\n",
        "*  find and replace occurrences of \"balloon\" and \"Balloon\" with name of your object\n",
        "*  set epochs number\n"
      ]
    },
    {
      "cell_type": "code",
      "metadata": {
        "id": "0SVHFnl5Hwe3",
        "colab": {
          "base_uri": "https://localhost:8080/"
        },
        "outputId": "629e7d38-db31-484f-bf5c-a3058df4ce2f"
      },
      "source": [
        "#Create a new file from the existing file. We don't use dog.py since that is what the earlier implementation used.\n",
        "%cd /content/drive/My Drive/Mask_RCNN-Trained\n",
        "\n",
        "!cp '/content/drive/My Drive/Mask_RCNN-Trained/dog.py' ./syntheticdataset.py\n",
        "\n",
        "# !sed -i -- 's/balloon/dog/g' dog.py\n",
        "# !sed -i -- 's/Balloon/Dog/g' dog.py\n",
        "# !sed -i -- 's/epochs=30/epochs=5/g' dog.py"
      ],
      "execution_count": null,
      "outputs": [
        {
          "output_type": "stream",
          "text": [
            "/content/drive/My Drive/Mask_RCNN-Trained\n"
          ],
          "name": "stdout"
        }
      ]
    },
    {
      "cell_type": "markdown",
      "metadata": {
        "id": "AjmxrVOwq0rC"
      },
      "source": [
        "#Train model\n",
        "Pretrained weights options are COCO, ImageNet or a model trained before"
      ]
    },
    {
      "cell_type": "code",
      "metadata": {
        "id": "EJGrimv2Xuf3"
      },
      "source": [
        "#%cd ~/Mask_RCNN-Trained\n",
        "# Train the model with a weight of choice\n",
        "!python syntheticdataset.py train --dataset=dataset/ --weights='imagenet'"
      ],
      "execution_count": null,
      "outputs": []
    },
    {
      "cell_type": "markdown",
      "metadata": {
        "id": "laqF3Tihrqs3"
      },
      "source": [
        "#Run inference on test dataset"
      ]
    },
    {
      "cell_type": "code",
      "metadata": {
        "id": "2o7dH-mRX2A0",
        "colab": {
          "base_uri": "https://localhost:8080/"
        },
        "outputId": "e4a5c050-5732-42b5-ea2e-f774fc81092e"
      },
      "source": [
        "import os\n",
        "import cv2\n",
        "import sys\n",
        "import random\n",
        "import math\n",
        "import re\n",
        "import time\n",
        "import numpy as np\n",
        "import tensorflow as tf\n",
        "import matplotlib\n",
        "import matplotlib.pyplot as plt\n",
        "import matplotlib.patches as patches\n",
        "import skimage\n",
        "import glob\n",
        "from mrcnn import utils\n",
        "from mrcnn import visualize\n",
        "from mrcnn.visualize import display_images\n",
        "import mrcnn.model as modellib\n",
        "from mrcnn.model import log\n",
        "\n",
        "import syntheticdataset\n",
        "\n",
        "# Root directory of the project\n",
        "ROOT_DIR = os.getcwd()\n",
        "\n",
        "# Import Mask RCNN\n",
        "sys.path.append(ROOT_DIR)  # To find local version of the library\n",
        "\n",
        "#custom_WEIGHTS_PATH = sorted(glob.glob(\"/content/drive/My Drive/Mask_RCNN-Trained/logs/*/mask_rcnn_*.h5\"))[-2]\n",
        "CUSTOM_WEIGHTS_PATH = \"/content/drive/MyDrive/Mask_RCNN-Trained/logs/AllSeedsDatasetWeights-R101-CC/mask_rcnn_object_0029.h5\"\n",
        "\n",
        "%matplotlib inline \n",
        "\n",
        "# Directory to save logs and trained model\n",
        "MODEL_DIR = os.path.join(\"/content/drive/My Drive/Mask_RCNN-Trained/\", \"logs\")\n",
        "\n",
        "config = syntheticdataset.CustomConfig()\n",
        "#custom_DIR = os.path.join(\"/content/drive/My Drive/\", \"dataset/RoughRiceSeeds\")\n",
        "\n",
        "class InferenceConfig(config.__class__):\n",
        "    GPU_COUNT = 1\n",
        "    IMAGES_PER_GPU = 2\n",
        "    NUM_CLASSES = 6\n",
        "    MAX_GT_INSTANCES = 600\n",
        "    # Give the configuration a recognizable name\n",
        "    NAME = \"object\"\n",
        "\n",
        "    # We use a GPU with 12GB memory, which can fit two images.\n",
        "    # Adjust down if you use a smaller GPU.\n",
        "    IMAGES_PER_GPU = 1\n",
        "\n",
        "    # Number of training steps per epoch\n",
        "    STEPS_PER_EPOCH = 100\n",
        "\n",
        "    # Skip detections with < 80% confidence\n",
        "    DETECTION_MIN_CONFIDENCE = 0.2\n",
        "\n",
        "        # All of our training images are 768x768\n",
        "    #IMAGE_MIN_DIM = 768\n",
        "    #IMAGE_MAX_DIM = 768\n",
        "\n",
        "    # This is how often validation is run. If you are using too much hard drive space\n",
        "    # on saved models (in the MODEL_DIR), try making this value larger.\n",
        "    #VALIDATION_STEPS = 5\n",
        "    \n",
        "    # Matterport originally used resnet101, but I downsized to fit it on my graphics card\n",
        "    BACKBONE = 'resnet101'\n",
        "\n",
        "    # To be honest, I haven't taken the time to figure out what these do\n",
        "    RPN_ANCHOR_SCALES = (2, 4, 8, 16, 32)\n",
        "    RPN_ANCHOR_RATIOS = [1.5, 2, 3]\n",
        "    TRAIN_ROIS_PER_IMAGE = 1200\n",
        "    MAX_GT_INSTANCES = 600 \n",
        "    POST_NMS_ROIS_INFERENCE = 500 \n",
        "    POST_NMS_ROIS_TRAINING = 1000 \n",
        "    RPN_TRAIN_ANCHORS_PER_IMAGE = 2000\n",
        "    DETECTION_MAX_INSTANCES = 600\n",
        "\n",
        "\n",
        "config = InferenceConfig()\n",
        "#config.display()\n",
        "\n",
        "# Device to load the neural network on.\n",
        "# Useful if you're training a model on the same \n",
        "# machine, in which case use CPU and leave the\n",
        "# GPU for training.\n",
        "DEVICE = \"/gpu:0\"  # /cpu:0 or /gpu:0\n",
        "\n",
        "# Inspect the model in training or inference modes\n",
        "# values: 'inference' or 'training'\n",
        "# TODO: code for 'training' test mode not ready yet\n",
        "TEST_MODE = \"inference\"\n",
        "\n",
        "def get_ax(rows=1, cols=1, size=16):\n",
        "    \"\"\"Return a Matplotlib Axes array to be used in\n",
        "    all visualizations in the notebook. Provide a\n",
        "    central point to control graph sizes.\n",
        "    \n",
        "    Adjust the size attribute to control how big to render images\n",
        "    \"\"\"\n",
        "    _, ax = plt.subplots(rows, cols, figsize=(size*cols, size*rows))\n",
        "    return ax\n",
        "  \n",
        "# Load validation dataset\n",
        "dataset = syntheticdataset.CocoLikeDataset()\n",
        "dataset.load_data(\"/content/drive/MyDrive/dataset/AllSeedsDataset2-Test2/coco_instances.json\", \"/content/drive/MyDrive/dataset/AllSeedsDataset2-Test2/images\")\n",
        "\n",
        "#Must call before using the dataset\n",
        "dataset.prepare()\n",
        "\n",
        "#print(\"Images: {}\\nClasses: {}\".format(len(dataset.image_ids), dataset.class_names))\n",
        "\n",
        "# Must call before using the dataset\n",
        "#dataset.prepare()\n",
        "\n",
        "#print(\"Images: {}\\nClasses: {}\".format(len(dataset.image_ids), dataset.class_names))\n",
        "\n",
        "# Create model in inference mode\n",
        "with tf.device(DEVICE):\n",
        "    #config.NUM_CLASSES = 3\n",
        "    model = modellib.MaskRCNN(mode=\"inference\", model_dir=MODEL_DIR,\n",
        "                              config=config)\n",
        "\n",
        "# load the last model you trained\n",
        "# weights_path = model.find_last()[1]\n",
        "\n",
        "# Load weights\n",
        "print(\"Loading weights \", CUSTOM_WEIGHTS_PATH)\n",
        "#model.load_weights(CUSTOM_WEIGHTS_PATH, by_name=True)\n",
        "#model.keras_model.save('SoyModel.h5')\n",
        "# Convert the model.\n",
        "#converter = tf.lite.TFLiteConverter.from_keras_model_file('/content/drive/My Drive/Mask_RCNN-Trained/SoyModel.h5')\n",
        "#tflite_model = converter.convert()\n",
        "\n",
        "\n",
        "from importlib import reload # was constantly changin the visualization, so I decided to reload it instead of notebook\n",
        "reload(visualize)"
      ],
      "execution_count": null,
      "outputs": [
        {
          "output_type": "stream",
          "text": [
            "Loading weights  /content/drive/MyDrive/Mask_RCNN-Trained/logs/AllSeedsDatasetWeights-R101-CC/mask_rcnn_object_0029.h5\n"
          ],
          "name": "stdout"
        },
        {
          "output_type": "execute_result",
          "data": {
            "text/plain": [
              "<module 'mrcnn.visualize' from '/content/drive/My Drive/Mask_RCNN-Trained/mrcnn/visualize.py'>"
            ]
          },
          "metadata": {
            "tags": []
          },
          "execution_count": 19
        }
      ]
    },
    {
      "cell_type": "code",
      "metadata": {
        "id": "5nFaSnOPSKHE"
      },
      "source": [
        "# Also running inference but without using the methods from the synthetic dataset class.\n",
        "# This method of running inference is faster\n",
        "import skimage\n",
        "import tensorflow as tf\n",
        "from tensorflow import keras\n",
        "\n",
        "rois = []\n",
        "masks = []\n",
        "classids = []\n",
        "score_vals = []\n",
        "dim = (768, 768)\n",
        "real_test_dir = '/content/drive/MyDrive/dataset/WheatCoins/Wheat-Dime'\n",
        "image_paths = []\n",
        "for filename in os.listdir(real_test_dir):\n",
        "    if os.path.splitext(filename)[1].lower() in ['.png', '.jpg', '.jpeg']:\n",
        "        image_paths.append(os.path.join(real_test_dir, filename))\n",
        "\n",
        "for image_path in image_paths:\n",
        "    img = skimage.io.imread(image_path)\n",
        "    img = cv2.resize(img, dim, interpolation = cv2.INTER_AREA)\n",
        "    img_arr = np.array(img)\n",
        "    results = model.detect([img_arr], verbose=1)\n",
        "    r = results[0]\n",
        "    rois.append(r['rois'])\n",
        "    masks.append(r['masks'])\n",
        "    classids.append(r['class_ids'])\n",
        "    score_vals.append(r['scores'])\n",
        "    visualize.display_instances(img, r['rois'], r['masks'], r['class_ids'], \n",
        "                                ['BG', 'canola', 'roughrice', 'wheat', 'sorghum', 'soy'], r['scores'], figsize=(8,8))"
      ],
      "execution_count": null,
      "outputs": []
    },
    {
      "cell_type": "code",
      "metadata": {
        "id": "0-oWffpwVFv9"
      },
      "source": [
        "# Code to start training the model with the train method implemented here.\n",
        "# It makes it easier to kick off training here without having to open up multiple files in the viewer.\n",
        "import os\n",
        "import cv2\n",
        "import sys\n",
        "import random\n",
        "import math\n",
        "import re\n",
        "import time\n",
        "import numpy as np\n",
        "import tensorflow as tf\n",
        "import matplotlib\n",
        "import matplotlib.pyplot as plt\n",
        "import matplotlib.patches as patches\n",
        "import skimage\n",
        "import glob\n",
        "from mrcnn import utils\n",
        "from mrcnn import visualize\n",
        "from mrcnn.visualize import display_images\n",
        "import mrcnn.model as modellib\n",
        "from mrcnn.model import log\n",
        "\n",
        "import syntheticdataset\n",
        "def train(model):\n",
        "    \"\"\"Train the model.\"\"\"\n",
        "    # Training dataset.\n",
        "    dataset_train = syntheticdataset.CocoLikeDataset()\n",
        "    dataset_train.load_data(\"/content/drive/MyDrive/dataset/AllSeeds-Dataset2/coco_instances.json\", \"/content/drive/MyDrive/dataset/AllSeeds-Dataset2/images\")\n",
        "    dataset_train.prepare()\n",
        "\n",
        "    # Validation dataset\n",
        "    dataset_val = syntheticdataset.CocoLikeDataset()\n",
        "    dataset_train.load_data(\"/content/drive/MyDrive/dataset/AllSeeds-Dataset2-Test/coco_instances.json\", \"/content/drive/MyDrive/dataset/AllSeeds-Dataset2-Test/images\")\n",
        "    dataset_val.prepare()\n",
        "\n",
        "    # *** This training schedule is an example. Update to your needs ***\n",
        "    # Since we're using a very small dataset, and starting from\n",
        "    # COCO trained weights, we don't need to train too long. Also,\n",
        "    # no need to train all layers, just the heads should do it.\n",
        "    print(\"Training network heads\")\n",
        "    model.train(dataset_train, dataset_val,\n",
        "                learning_rate=config.LEARNING_RATE,\n",
        "                epochs=55,\n",
        "                layers='heads')\n",
        "    \n",
        "with tf.device(DEVICE):\n",
        "    model = modellib.MaskRCNN(mode=\"training\", model_dir=MODEL_DIR,\n",
        "                              config=config)\n",
        "    \n",
        "custom_WEIGHTS_PATH = os.path.join(\"/content/drive/My Drive/Mask_RCNN-Trained\", \"mask_rcnn_coco.h5\")    \n",
        "# Load weights\n",
        "print(\"Loading weights \", custom_WEIGHTS_PATH)\n",
        "model.load_weights(custom_WEIGHTS_PATH, by_name=True, exclude=[\n",
        "            \"mrcnn_class_logits\", \"mrcnn_bbox_fc\",\n",
        "            \"mrcnn_bbox\", \"mrcnn_mask\"])\n",
        "\n",
        "# model.train(dataset_train, dataset_val, \n",
        "#             learning_rate=config.LEARNING_RATE,\n",
        "#             epochs=25, \n",
        "#             layers=\"heads\")\n",
        "train(model)"
      ],
      "execution_count": null,
      "outputs": []
    },
    {
      "cell_type": "code",
      "metadata": {
        "id": "X7iSzccTL9hM"
      },
      "source": [
        "#image_id = random.choice(dataset.image_ids)\n",
        "# trainModel.train()\n",
        "# Code to kick off inference on a set of weights and compute IOUs and Recall\n",
        "CUSTOM_WEIGHTS_PATH1 = \"/content/drive/MyDrive/Mask_RCNN-Trained/logs/AllSeedsDatasetWeights-R101-CC/mask_rcnn_object_0029.h5\"\n",
        "CUSTOM_WEIGHTS_PATH2 = \"/content/drive/MyDrive/Mask_RCNN-Trained/logs/AllSeedsDataset-R50-CC/mask_rcnn_object_0027.h5\"\n",
        "\n",
        "print(config.BACKBONE)\n",
        "# # # Create model object in inference mode.\n",
        "#print(MODEL_DIR)\n",
        "model = modellib.MaskRCNN(mode=\"inference\", model_dir=MODEL_DIR, config=config)\n",
        "#model2 = modellib.MaskRCNN(mode=\"inference\", model_dir=MODEL_DIR, config=config)\n",
        "\n",
        "# # # Load weights trained on MS-COCO\n",
        "model.load_weights(CUSTOM_WEIGHTS_PATH1, by_name=True)\n",
        "#model2.load_weights(CUSTOM_WEIGHTS_PATH2, by_name=True)\n",
        "\n",
        "rois = []\n",
        "masks = []\n",
        "classids = []\n",
        "score_vals = []\n",
        "iou = 0.1\n",
        "\n",
        "count = 0\n",
        "\n",
        "print(len(dataset.image_ids))\n",
        "\n",
        "for image_id in dataset.image_ids:\n",
        "  image, image_meta, gt_class_id, gt_bbox, gt_mask =\\\n",
        "  modellib.load_image_gt(dataset, config, image_id, use_mini_mask=False)\n",
        "  info = dataset.image_info[image_id]\n",
        "  print(\"image ID: {}.{} ({}) {}\".format(info[\"source\"], info[\"id\"], image_id, \n",
        "                                        dataset.image_reference(image_id)))\n",
        "\n",
        "  # Run object detection\n",
        "  results = model.detect([image], verbose=1)\n",
        "\n",
        "  # Display results\n",
        "  ax = get_ax(1)\n",
        "  r = results[0]\n",
        "  rois.append(r['rois'])\n",
        "  masks.append(r['masks'])\n",
        "  classids.append(r['class_ids'])\n",
        "  score_vals.append(r['scores'])\n",
        "  count += 1\n",
        "\n",
        "  visualize.display_instances(image, r['rois'], r['masks'], r['class_ids'], \n",
        "                             ['BG', 'canola', 'roughrice', 'wheat', 'sorghum', 'soy'], r['scores'], ax=ax,\n",
        "                             title=\"Predictions\")\n",
        "  \n",
        "  recall = utils.compute_recall(r[\"rois\"],gt_bbox,iou)[0]\n",
        "  AP, _,_,_ = utils.compute_ap(gt_bbox, gt_class_id, gt_mask,\n",
        "                                     r['rois'], r['class_ids'], r['scores'], r['masks'],iou_threshold = iou)\n",
        "    \n",
        "  log(\"gt_class_id\", gt_class_id)\n",
        "  for i in r['class_ids']:\n",
        "    print(i)\n",
        "  log(\"gt_bbox\", gt_bbox)\n",
        "  log(\"gt_mask\", gt_mask)\n",
        "  print(\"image:\",image_id)\n",
        "  print(\"recall:\", recall)\n",
        "  print(\"mask AP50:\", AP)\n"
      ],
      "execution_count": null,
      "outputs": []
    },
    {
      "cell_type": "code",
      "metadata": {
        "id": "s4u3Aap8NvsY",
        "colab": {
          "base_uri": "https://localhost:8080/",
          "height": 1000
        },
        "outputId": "0f1bf1d1-b5e8-4bc2-da20-ff337a88cc44"
      },
      "source": [
        "# Estimation of bounding rectangles to compute the area.\n",
        "from google.colab.patches import cv2_imshow # for image display\n",
        "\n",
        "#size = (w, h, channels) = (1024, 1024, 15)\n",
        "size = (w, h) = (1024, 1024)\n",
        "\n",
        "color = (255, 0, 0) \n",
        "thickness = 2\n",
        "\n",
        "img1 = np.zeros(size, np.uint8)\n",
        "finalImg = np.zeros((1024, 1024, 3), np.uint8)\n",
        "cnt = 0\n",
        "\n",
        "#print(masks)\n",
        "\n",
        "singleMask = masks[8]\n",
        "print(np.shape(singleMask))\n",
        "\n",
        "maskContours = []\n",
        "for k in range(len(singleMask[0][0])):\n",
        "  for i in range(len(singleMask)):\n",
        "    for j in range(len(singleMask[0])):\n",
        "        if(singleMask[i][j][k] == False):\n",
        "          img1[i][j] = 0\n",
        "        else:\n",
        "          img1[i][j] = 255\n",
        "    \n",
        "  contours, hierarchy = cv2.findContours(np.asmatrix(img1),  \n",
        "    cv2.RETR_EXTERNAL, cv2.CHAIN_APPROX_NONE)\n",
        "  cv2.drawContours(finalImg, contours, -1, (0, 255, 0),3)\n",
        "\n",
        "\n",
        "  rotatedRect = cv2.minAreaRect(contours[0])\n",
        "  box = cv2.boxPoints(rotatedRect)\n",
        "  box = np.int0(box)\n",
        "  cv2.drawContours(finalImg, [box], -1, (255, 255, 0),3)\n",
        "  print(cv2.contourArea(contours[0]))\n",
        "\n",
        "cv2_imshow(finalImg) \n",
        "\n",
        "\n",
        "print(len(rois[0]))\n",
        "cnt = 0\n",
        "for i, v in enumerate(rois[8]):\n",
        "    cv2.rectangle(finalImg, (v[1], v[0]), (v[3], v[2]), color, thickness)\n",
        "\n",
        "cv2_imshow(finalImg)\n",
        "\n",
        "\n",
        "\n"
      ],
      "execution_count": null,
      "outputs": [
        {
          "output_type": "stream",
          "text": [
            "(768, 768, 73)\n",
            "604.0\n",
            "634.5\n",
            "682.5\n",
            "579.5\n",
            "664.0\n",
            "548.0\n",
            "515.0\n",
            "579.5\n",
            "577.5\n",
            "666.0\n",
            "660.0\n",
            "542.0\n",
            "622.0\n",
            "592.0\n",
            "567.5\n",
            "657.0\n",
            "565.0\n",
            "441.5\n",
            "622.0\n",
            "671.0\n",
            "593.5\n",
            "554.5\n",
            "425.5\n",
            "603.0\n",
            "556.5\n",
            "661.5\n",
            "492.0\n",
            "683.0\n",
            "412.5\n",
            "644.0\n",
            "550.5\n",
            "571.0\n",
            "497.5\n",
            "506.0\n",
            "412.5\n",
            "542.5\n",
            "632.5\n",
            "615.5\n",
            "639.5\n",
            "592.0\n",
            "562.0\n",
            "451.0\n",
            "641.0\n",
            "604.5\n",
            "467.5\n",
            "642.0\n",
            "505.5\n",
            "666.0\n",
            "455.0\n",
            "599.0\n",
            "383.0\n",
            "522.0\n",
            "637.5\n",
            "504.5\n",
            "521.5\n",
            "554.5\n",
            "599.0\n",
            "656.5\n",
            "245.0\n",
            "654.0\n",
            "517.5\n",
            "676.0\n",
            "558.5\n",
            "658.0\n",
            "628.5\n",
            "647.0\n",
            "525.5\n",
            "666.5\n",
            "556.0\n",
            "455.5\n",
            "659.0\n",
            "508.0\n",
            "636.0\n"
          ],
          "name": "stdout"
        },
        {
          "output_type": "display_data",
          "data": {
            "image/png": "[encoded data removed]",
            "text/plain": [
              "<PIL.Image.Image image mode=RGB size=1024x1024 at 0x7F8EB183D048>"
            ]
          },
          "metadata": {
            "tags": []
          }
        },
        {
          "output_type": "stream",
          "text": [
            "59\n"
          ],
          "name": "stdout"
        },
        {
          "output_type": "display_data",
          "data": {
            "image/png": "[encoded data removed]",
            "text/plain": [
              "<PIL.Image.Image image mode=RGB size=1024x1024 at 0x7F8EB183D0B8>"
            ]
          },
          "metadata": {
            "tags": []
          }
        }
      ]
    },
    {
      "cell_type": "code",
      "metadata": {
        "id": "BlNeBizaYnCG"
      },
      "source": [
        "img[0][0][0] = 255  #convert to an unsigned byte\n",
        "indices*=255\n",
        "cv2_imshow(img)\n",
        "cv2.waitKey()"
      ],
      "execution_count": null,
      "outputs": []
    }
  ]
}